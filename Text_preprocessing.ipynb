{
  "nbformat": 4,
  "nbformat_minor": 0,
  "metadata": {
    "colab": {
      "name": "Text preprocessing.ipynb",
      "provenance": [],
      "collapsed_sections": []
    },
    "kernelspec": {
      "name": "python3",
      "display_name": "Python 3"
    },
    "language_info": {
      "name": "python"
    }
  },
  "cells": [
    {
      "cell_type": "code",
      "execution_count": 1,
      "metadata": {
        "colab": {
          "base_uri": "https://localhost:8080/"
        },
        "id": "c-Ty8fD0fKKP",
        "outputId": "9f090256-856e-4cd7-ca03-ec99406542b9"
      },
      "outputs": [
        {
          "output_type": "stream",
          "name": "stdout",
          "text": [
            "Collecting spacy-langdetect\n",
            "  Downloading spacy_langdetect-0.1.2-py3-none-any.whl (5.0 kB)\n",
            "Collecting langdetect==1.0.7\n",
            "  Downloading langdetect-1.0.7.zip (998 kB)\n",
            "\u001b[?25l\r\u001b[K     |▎                               | 10 kB 20.5 MB/s eta 0:00:01\r\u001b[K     |▋                               | 20 kB 26.4 MB/s eta 0:00:01\r\u001b[K     |█                               | 30 kB 29.9 MB/s eta 0:00:01\r\u001b[K     |█▎                              | 40 kB 32.8 MB/s eta 0:00:01\r\u001b[K     |█▋                              | 51 kB 25.7 MB/s eta 0:00:01\r\u001b[K     |██                              | 61 kB 28.3 MB/s eta 0:00:01\r\u001b[K     |██▎                             | 71 kB 29.7 MB/s eta 0:00:01\r\u001b[K     |██▋                             | 81 kB 31.3 MB/s eta 0:00:01\r\u001b[K     |███                             | 92 kB 33.9 MB/s eta 0:00:01\r\u001b[K     |███▎                            | 102 kB 30.8 MB/s eta 0:00:01\r\u001b[K     |███▋                            | 112 kB 30.8 MB/s eta 0:00:01\r\u001b[K     |████                            | 122 kB 30.8 MB/s eta 0:00:01\r\u001b[K     |████▎                           | 133 kB 30.8 MB/s eta 0:00:01\r\u001b[K     |████▋                           | 143 kB 30.8 MB/s eta 0:00:01\r\u001b[K     |█████                           | 153 kB 30.8 MB/s eta 0:00:01\r\u001b[K     |█████▎                          | 163 kB 30.8 MB/s eta 0:00:01\r\u001b[K     |█████▋                          | 174 kB 30.8 MB/s eta 0:00:01\r\u001b[K     |██████                          | 184 kB 30.8 MB/s eta 0:00:01\r\u001b[K     |██████▎                         | 194 kB 30.8 MB/s eta 0:00:01\r\u001b[K     |██████▋                         | 204 kB 30.8 MB/s eta 0:00:01\r\u001b[K     |███████                         | 215 kB 30.8 MB/s eta 0:00:01\r\u001b[K     |███████▎                        | 225 kB 30.8 MB/s eta 0:00:01\r\u001b[K     |███████▌                        | 235 kB 30.8 MB/s eta 0:00:01\r\u001b[K     |███████▉                        | 245 kB 30.8 MB/s eta 0:00:01\r\u001b[K     |████████▏                       | 256 kB 30.8 MB/s eta 0:00:01\r\u001b[K     |████████▌                       | 266 kB 30.8 MB/s eta 0:00:01\r\u001b[K     |████████▉                       | 276 kB 30.8 MB/s eta 0:00:01\r\u001b[K     |█████████▏                      | 286 kB 30.8 MB/s eta 0:00:01\r\u001b[K     |█████████▌                      | 296 kB 30.8 MB/s eta 0:00:01\r\u001b[K     |█████████▉                      | 307 kB 30.8 MB/s eta 0:00:01\r\u001b[K     |██████████▏                     | 317 kB 30.8 MB/s eta 0:00:01\r\u001b[K     |██████████▌                     | 327 kB 30.8 MB/s eta 0:00:01\r\u001b[K     |██████████▉                     | 337 kB 30.8 MB/s eta 0:00:01\r\u001b[K     |███████████▏                    | 348 kB 30.8 MB/s eta 0:00:01\r\u001b[K     |███████████▌                    | 358 kB 30.8 MB/s eta 0:00:01\r\u001b[K     |███████████▉                    | 368 kB 30.8 MB/s eta 0:00:01\r\u001b[K     |████████████▏                   | 378 kB 30.8 MB/s eta 0:00:01\r\u001b[K     |████████████▌                   | 389 kB 30.8 MB/s eta 0:00:01\r\u001b[K     |████████████▉                   | 399 kB 30.8 MB/s eta 0:00:01\r\u001b[K     |█████████████▏                  | 409 kB 30.8 MB/s eta 0:00:01\r\u001b[K     |█████████████▌                  | 419 kB 30.8 MB/s eta 0:00:01\r\u001b[K     |█████████████▉                  | 430 kB 30.8 MB/s eta 0:00:01\r\u001b[K     |██████████████▏                 | 440 kB 30.8 MB/s eta 0:00:01\r\u001b[K     |██████████████▌                 | 450 kB 30.8 MB/s eta 0:00:01\r\u001b[K     |██████████████▊                 | 460 kB 30.8 MB/s eta 0:00:01\r\u001b[K     |███████████████                 | 471 kB 30.8 MB/s eta 0:00:01\r\u001b[K     |███████████████▍                | 481 kB 30.8 MB/s eta 0:00:01\r\u001b[K     |███████████████▊                | 491 kB 30.8 MB/s eta 0:00:01\r\u001b[K     |████████████████                | 501 kB 30.8 MB/s eta 0:00:01\r\u001b[K     |████████████████▍               | 512 kB 30.8 MB/s eta 0:00:01\r\u001b[K     |████████████████▊               | 522 kB 30.8 MB/s eta 0:00:01\r\u001b[K     |█████████████████               | 532 kB 30.8 MB/s eta 0:00:01\r\u001b[K     |█████████████████▍              | 542 kB 30.8 MB/s eta 0:00:01\r\u001b[K     |█████████████████▊              | 552 kB 30.8 MB/s eta 0:00:01\r\u001b[K     |██████████████████              | 563 kB 30.8 MB/s eta 0:00:01\r\u001b[K     |██████████████████▍             | 573 kB 30.8 MB/s eta 0:00:01\r\u001b[K     |██████████████████▊             | 583 kB 30.8 MB/s eta 0:00:01\r\u001b[K     |███████████████████             | 593 kB 30.8 MB/s eta 0:00:01\r\u001b[K     |███████████████████▍            | 604 kB 30.8 MB/s eta 0:00:01\r\u001b[K     |███████████████████▊            | 614 kB 30.8 MB/s eta 0:00:01\r\u001b[K     |████████████████████            | 624 kB 30.8 MB/s eta 0:00:01\r\u001b[K     |████████████████████▍           | 634 kB 30.8 MB/s eta 0:00:01\r\u001b[K     |████████████████████▊           | 645 kB 30.8 MB/s eta 0:00:01\r\u001b[K     |█████████████████████           | 655 kB 30.8 MB/s eta 0:00:01\r\u001b[K     |█████████████████████▍          | 665 kB 30.8 MB/s eta 0:00:01\r\u001b[K     |█████████████████████▊          | 675 kB 30.8 MB/s eta 0:00:01\r\u001b[K     |██████████████████████          | 686 kB 30.8 MB/s eta 0:00:01\r\u001b[K     |██████████████████████▎         | 696 kB 30.8 MB/s eta 0:00:01\r\u001b[K     |██████████████████████▋         | 706 kB 30.8 MB/s eta 0:00:01\r\u001b[K     |███████████████████████         | 716 kB 30.8 MB/s eta 0:00:01\r\u001b[K     |███████████████████████▎        | 727 kB 30.8 MB/s eta 0:00:01\r\u001b[K     |███████████████████████▋        | 737 kB 30.8 MB/s eta 0:00:01\r\u001b[K     |████████████████████████        | 747 kB 30.8 MB/s eta 0:00:01\r\u001b[K     |████████████████████████▎       | 757 kB 30.8 MB/s eta 0:00:01\r\u001b[K     |████████████████████████▋       | 768 kB 30.8 MB/s eta 0:00:01\r\u001b[K     |█████████████████████████       | 778 kB 30.8 MB/s eta 0:00:01\r\u001b[K     |█████████████████████████▎      | 788 kB 30.8 MB/s eta 0:00:01\r\u001b[K     |█████████████████████████▋      | 798 kB 30.8 MB/s eta 0:00:01\r\u001b[K     |██████████████████████████      | 808 kB 30.8 MB/s eta 0:00:01\r\u001b[K     |██████████████████████████▎     | 819 kB 30.8 MB/s eta 0:00:01\r\u001b[K     |██████████████████████████▋     | 829 kB 30.8 MB/s eta 0:00:01\r\u001b[K     |███████████████████████████     | 839 kB 30.8 MB/s eta 0:00:01\r\u001b[K     |███████████████████████████▎    | 849 kB 30.8 MB/s eta 0:00:01\r\u001b[K     |███████████████████████████▋    | 860 kB 30.8 MB/s eta 0:00:01\r\u001b[K     |████████████████████████████    | 870 kB 30.8 MB/s eta 0:00:01\r\u001b[K     |████████████████████████████▎   | 880 kB 30.8 MB/s eta 0:00:01\r\u001b[K     |████████████████████████████▋   | 890 kB 30.8 MB/s eta 0:00:01\r\u001b[K     |█████████████████████████████   | 901 kB 30.8 MB/s eta 0:00:01\r\u001b[K     |█████████████████████████████▏  | 911 kB 30.8 MB/s eta 0:00:01\r\u001b[K     |█████████████████████████████▌  | 921 kB 30.8 MB/s eta 0:00:01\r\u001b[K     |█████████████████████████████▉  | 931 kB 30.8 MB/s eta 0:00:01\r\u001b[K     |██████████████████████████████▏ | 942 kB 30.8 MB/s eta 0:00:01\r\u001b[K     |██████████████████████████████▌ | 952 kB 30.8 MB/s eta 0:00:01\r\u001b[K     |██████████████████████████████▉ | 962 kB 30.8 MB/s eta 0:00:01\r\u001b[K     |███████████████████████████████▏| 972 kB 30.8 MB/s eta 0:00:01\r\u001b[K     |███████████████████████████████▌| 983 kB 30.8 MB/s eta 0:00:01\r\u001b[K     |███████████████████████████████▉| 993 kB 30.8 MB/s eta 0:00:01\r\u001b[K     |████████████████████████████████| 998 kB 30.8 MB/s \n",
            "\u001b[?25hRequirement already satisfied: pytest in /usr/local/lib/python3.7/dist-packages (from spacy-langdetect) (3.6.4)\n",
            "Requirement already satisfied: six in /usr/local/lib/python3.7/dist-packages (from langdetect==1.0.7->spacy-langdetect) (1.15.0)\n",
            "Requirement already satisfied: pluggy<0.8,>=0.5 in /usr/local/lib/python3.7/dist-packages (from pytest->spacy-langdetect) (0.7.1)\n",
            "Requirement already satisfied: py>=1.5.0 in /usr/local/lib/python3.7/dist-packages (from pytest->spacy-langdetect) (1.11.0)\n",
            "Requirement already satisfied: setuptools in /usr/local/lib/python3.7/dist-packages (from pytest->spacy-langdetect) (57.4.0)\n",
            "Requirement already satisfied: atomicwrites>=1.0 in /usr/local/lib/python3.7/dist-packages (from pytest->spacy-langdetect) (1.4.0)\n",
            "Requirement already satisfied: attrs>=17.4.0 in /usr/local/lib/python3.7/dist-packages (from pytest->spacy-langdetect) (21.4.0)\n",
            "Requirement already satisfied: more-itertools>=4.0.0 in /usr/local/lib/python3.7/dist-packages (from pytest->spacy-langdetect) (8.12.0)\n",
            "Building wheels for collected packages: langdetect\n",
            "  Building wheel for langdetect (setup.py) ... \u001b[?25l\u001b[?25hdone\n",
            "  Created wheel for langdetect: filename=langdetect-1.0.7-py3-none-any.whl size=993431 sha256=58469d7b6bf3d4186cd88bf066f7f876634f19b2462c26f3645242d566bfd19c\n",
            "  Stored in directory: /root/.cache/pip/wheels/89/79/3b/9885ae7f4308f73c514f96d8574d40d7d8173a27731b674013\n",
            "Successfully built langdetect\n",
            "Installing collected packages: langdetect, spacy-langdetect\n",
            "Successfully installed langdetect-1.0.7 spacy-langdetect-0.1.2\n"
          ]
        }
      ],
      "source": [
        "pip install spacy-langdetect"
      ]
    },
    {
      "cell_type": "code",
      "source": [
        "#Import libraries\n",
        "import pandas as pd\n",
        "import numpy as np\n",
        "import re\n",
        "import seaborn as sns\n",
        "import matplotlib.pyplot as plt\n",
        "import warnings\n",
        "warnings.simplefilter(\"ignore\")\n",
        "import re\n",
        "import spacy\n",
        "from spacy.language import Language\n",
        "from spacy_langdetect import LanguageDetector\n",
        "import unicodedata\n",
        "from sklearn.utils import shuffle\n",
        "from sklearn.preprocessing import LabelEncoder\n",
        "from sklearn.feature_extraction.text import CountVectorizer\n",
        "from sklearn.model_selection import train_test_split\n",
        "from sklearn.naive_bayes import MultinomialNB\n",
        "from sklearn.metrics import accuracy_score, confusion_matrix,classification_report"
      ],
      "metadata": {
        "id": "pHDcr3gufcfI"
      },
      "execution_count": 2,
      "outputs": []
    },
    {
      "cell_type": "code",
      "source": [
        "#load stop words\n",
        "file1 = open(\"/content/list.txt\")\n",
        " \n",
        "# Use this to read file content as a stream:\n",
        "line = file1.read()\n",
        "stop_words = line.split()"
      ],
      "metadata": {
        "id": "eND6fqFJfciM"
      },
      "execution_count": 3,
      "outputs": []
    },
    {
      "cell_type": "code",
      "source": [
        "#Text Cleaning Final\n",
        "def remove_punctuation(text):\n",
        "  return re.sub(r'[^\\w\\s]+','',text)\n",
        "\n",
        "def remove_english_and_numbers(text):\n",
        "  return re.sub(r'[a-zA-Z\\d+]+','',text)\n",
        "\n",
        "def remove_escape_characters(text):\n",
        "  text=re.sub(r'\\n', '',text)\n",
        "  text=re.sub(r'\\_','',text)\n",
        "  return text\n",
        "\n",
        "def remove_non_arabic_non_ascii(text):\n",
        "  nlp = spacy.load('en')  # 1\n",
        "  nlp.add_pipe(LanguageDetector(), name='language_detector', last=True)\n",
        "  text_content = text\n",
        "  doc = nlp(text_content) #3\n",
        "  detect_language = doc._.language #4\n",
        "  if detect_language['language']=='ar':\n",
        "    pass\n",
        "  else:\n",
        "      text=unicodedata.normalize('NFKD',text).encode('ascii', 'ignore').decode('utf-8', 'ignore')\n",
        "      text=remove_punctuation(text)\n",
        "      text=remove_english_and_numbers(text)\n",
        "  return text\n",
        "\n",
        "def text2words(text):\n",
        "   return text.split()\n",
        "\n",
        "def remove_stopwords(words, stop_words):\n",
        "  return [word for word in words if word not in stop_words]\n",
        "\n",
        "def normalize_text(text):\n",
        "    text=remove_punctuation(text)\n",
        "    text=remove_english_and_numbers(text)\n",
        "    text=remove_escape_characters(text)\n",
        "    text=remove_non_arabic_non_ascii(text)\n",
        "    words=text2words(text)\n",
        "    words = remove_stopwords(words, stop_words)\n",
        "    text=' '.join(words)\n",
        "    return text"
      ],
      "metadata": {
        "id": "tl2P8JPmfclZ"
      },
      "execution_count": 4,
      "outputs": []
    },
    {
      "cell_type": "code",
      "source": [
        "#Load dataset\n",
        "from sklearn.utils import shuffle\n",
        "df=shuffle(pd.read_csv(\"/content/dataset_36000_2000.csv\"))"
      ],
      "metadata": {
        "id": "_IMc4SMVfzOg"
      },
      "execution_count": 5,
      "outputs": []
    },
    {
      "cell_type": "code",
      "source": [
        "df.head()"
      ],
      "metadata": {
        "colab": {
          "base_uri": "https://localhost:8080/",
          "height": 206
        },
        "id": "10w3z1eKf0Y1",
        "outputId": "3a3a7962-ef66-4ff3-98cf-0fe0fc3796d3"
      },
      "execution_count": 6,
      "outputs": [
        {
          "output_type": "execute_result",
          "data": {
            "text/plain": [
              "       Unnamed: 0                                                  0 dialect\n",
              "5807         5807  @afq2022 وينك يا بو فهد ، توني متصل لك جوالك م...      QA\n",
              "27643       27643  والاحلى من الفرش .. الاسفنجه الي تكبر بالماي\\n...      KW\n",
              "12751       12751                      @RMSumrain94 واحد مي لو سمحتي      JO\n",
              "25046       25046  @Walo2a__ ماراح احكي ولا قالا شي هي حرا تعمل ت...      LB\n",
              "5016         5016  @uae_3G @saoud_k_althani بتدفعون فعلتكم الشينه...      QA"
            ],
            "text/html": [
              "\n",
              "  <div id=\"df-bb825ad9-fade-4262-a7ff-4ee6c9a4e68d\">\n",
              "    <div class=\"colab-df-container\">\n",
              "      <div>\n",
              "<style scoped>\n",
              "    .dataframe tbody tr th:only-of-type {\n",
              "        vertical-align: middle;\n",
              "    }\n",
              "\n",
              "    .dataframe tbody tr th {\n",
              "        vertical-align: top;\n",
              "    }\n",
              "\n",
              "    .dataframe thead th {\n",
              "        text-align: right;\n",
              "    }\n",
              "</style>\n",
              "<table border=\"1\" class=\"dataframe\">\n",
              "  <thead>\n",
              "    <tr style=\"text-align: right;\">\n",
              "      <th></th>\n",
              "      <th>Unnamed: 0</th>\n",
              "      <th>0</th>\n",
              "      <th>dialect</th>\n",
              "    </tr>\n",
              "  </thead>\n",
              "  <tbody>\n",
              "    <tr>\n",
              "      <th>5807</th>\n",
              "      <td>5807</td>\n",
              "      <td>@afq2022 وينك يا بو فهد ، توني متصل لك جوالك م...</td>\n",
              "      <td>QA</td>\n",
              "    </tr>\n",
              "    <tr>\n",
              "      <th>27643</th>\n",
              "      <td>27643</td>\n",
              "      <td>والاحلى من الفرش .. الاسفنجه الي تكبر بالماي\\n...</td>\n",
              "      <td>KW</td>\n",
              "    </tr>\n",
              "    <tr>\n",
              "      <th>12751</th>\n",
              "      <td>12751</td>\n",
              "      <td>@RMSumrain94 واحد مي لو سمحتي</td>\n",
              "      <td>JO</td>\n",
              "    </tr>\n",
              "    <tr>\n",
              "      <th>25046</th>\n",
              "      <td>25046</td>\n",
              "      <td>@Walo2a__ ماراح احكي ولا قالا شي هي حرا تعمل ت...</td>\n",
              "      <td>LB</td>\n",
              "    </tr>\n",
              "    <tr>\n",
              "      <th>5016</th>\n",
              "      <td>5016</td>\n",
              "      <td>@uae_3G @saoud_k_althani بتدفعون فعلتكم الشينه...</td>\n",
              "      <td>QA</td>\n",
              "    </tr>\n",
              "  </tbody>\n",
              "</table>\n",
              "</div>\n",
              "      <button class=\"colab-df-convert\" onclick=\"convertToInteractive('df-bb825ad9-fade-4262-a7ff-4ee6c9a4e68d')\"\n",
              "              title=\"Convert this dataframe to an interactive table.\"\n",
              "              style=\"display:none;\">\n",
              "        \n",
              "  <svg xmlns=\"http://www.w3.org/2000/svg\" height=\"24px\"viewBox=\"0 0 24 24\"\n",
              "       width=\"24px\">\n",
              "    <path d=\"M0 0h24v24H0V0z\" fill=\"none\"/>\n",
              "    <path d=\"M18.56 5.44l.94 2.06.94-2.06 2.06-.94-2.06-.94-.94-2.06-.94 2.06-2.06.94zm-11 1L8.5 8.5l.94-2.06 2.06-.94-2.06-.94L8.5 2.5l-.94 2.06-2.06.94zm10 10l.94 2.06.94-2.06 2.06-.94-2.06-.94-.94-2.06-.94 2.06-2.06.94z\"/><path d=\"M17.41 7.96l-1.37-1.37c-.4-.4-.92-.59-1.43-.59-.52 0-1.04.2-1.43.59L10.3 9.45l-7.72 7.72c-.78.78-.78 2.05 0 2.83L4 21.41c.39.39.9.59 1.41.59.51 0 1.02-.2 1.41-.59l7.78-7.78 2.81-2.81c.8-.78.8-2.07 0-2.86zM5.41 20L4 18.59l7.72-7.72 1.47 1.35L5.41 20z\"/>\n",
              "  </svg>\n",
              "      </button>\n",
              "      \n",
              "  <style>\n",
              "    .colab-df-container {\n",
              "      display:flex;\n",
              "      flex-wrap:wrap;\n",
              "      gap: 12px;\n",
              "    }\n",
              "\n",
              "    .colab-df-convert {\n",
              "      background-color: #E8F0FE;\n",
              "      border: none;\n",
              "      border-radius: 50%;\n",
              "      cursor: pointer;\n",
              "      display: none;\n",
              "      fill: #1967D2;\n",
              "      height: 32px;\n",
              "      padding: 0 0 0 0;\n",
              "      width: 32px;\n",
              "    }\n",
              "\n",
              "    .colab-df-convert:hover {\n",
              "      background-color: #E2EBFA;\n",
              "      box-shadow: 0px 1px 2px rgba(60, 64, 67, 0.3), 0px 1px 3px 1px rgba(60, 64, 67, 0.15);\n",
              "      fill: #174EA6;\n",
              "    }\n",
              "\n",
              "    [theme=dark] .colab-df-convert {\n",
              "      background-color: #3B4455;\n",
              "      fill: #D2E3FC;\n",
              "    }\n",
              "\n",
              "    [theme=dark] .colab-df-convert:hover {\n",
              "      background-color: #434B5C;\n",
              "      box-shadow: 0px 1px 3px 1px rgba(0, 0, 0, 0.15);\n",
              "      filter: drop-shadow(0px 1px 2px rgba(0, 0, 0, 0.3));\n",
              "      fill: #FFFFFF;\n",
              "    }\n",
              "  </style>\n",
              "\n",
              "      <script>\n",
              "        const buttonEl =\n",
              "          document.querySelector('#df-bb825ad9-fade-4262-a7ff-4ee6c9a4e68d button.colab-df-convert');\n",
              "        buttonEl.style.display =\n",
              "          google.colab.kernel.accessAllowed ? 'block' : 'none';\n",
              "\n",
              "        async function convertToInteractive(key) {\n",
              "          const element = document.querySelector('#df-bb825ad9-fade-4262-a7ff-4ee6c9a4e68d');\n",
              "          const dataTable =\n",
              "            await google.colab.kernel.invokeFunction('convertToInteractive',\n",
              "                                                     [key], {});\n",
              "          if (!dataTable) return;\n",
              "\n",
              "          const docLinkHtml = 'Like what you see? Visit the ' +\n",
              "            '<a target=\"_blank\" href=https://colab.research.google.com/notebooks/data_table.ipynb>data table notebook</a>'\n",
              "            + ' to learn more about interactive tables.';\n",
              "          element.innerHTML = '';\n",
              "          dataTable['output_type'] = 'display_data';\n",
              "          await google.colab.output.renderOutput(dataTable, element);\n",
              "          const docLink = document.createElement('div');\n",
              "          docLink.innerHTML = docLinkHtml;\n",
              "          element.appendChild(docLink);\n",
              "        }\n",
              "      </script>\n",
              "    </div>\n",
              "  </div>\n",
              "  "
            ]
          },
          "metadata": {},
          "execution_count": 6
        }
      ]
    },
    {
      "cell_type": "code",
      "source": [
        "df.drop(['Unnamed: 0'], axis=1,inplace=True)\n",
        "df.rename(columns={'0': 'text'},inplace=True)\n",
        "df=df.reset_index(drop=True)\n",
        "df.head()"
      ],
      "metadata": {
        "colab": {
          "base_uri": "https://localhost:8080/",
          "height": 206
        },
        "id": "lesFCU0uf-m3",
        "outputId": "7a9fb673-60e3-4fc5-f233-851c09d71403"
      },
      "execution_count": 7,
      "outputs": [
        {
          "output_type": "execute_result",
          "data": {
            "text/plain": [
              "                                                text dialect\n",
              "0  @afq2022 وينك يا بو فهد ، توني متصل لك جوالك م...      QA\n",
              "1  والاحلى من الفرش .. الاسفنجه الي تكبر بالماي\\n...      KW\n",
              "2                      @RMSumrain94 واحد مي لو سمحتي      JO\n",
              "3  @Walo2a__ ماراح احكي ولا قالا شي هي حرا تعمل ت...      LB\n",
              "4  @uae_3G @saoud_k_althani بتدفعون فعلتكم الشينه...      QA"
            ],
            "text/html": [
              "\n",
              "  <div id=\"df-d57a6c43-f247-40ca-bb23-b370679cb2da\">\n",
              "    <div class=\"colab-df-container\">\n",
              "      <div>\n",
              "<style scoped>\n",
              "    .dataframe tbody tr th:only-of-type {\n",
              "        vertical-align: middle;\n",
              "    }\n",
              "\n",
              "    .dataframe tbody tr th {\n",
              "        vertical-align: top;\n",
              "    }\n",
              "\n",
              "    .dataframe thead th {\n",
              "        text-align: right;\n",
              "    }\n",
              "</style>\n",
              "<table border=\"1\" class=\"dataframe\">\n",
              "  <thead>\n",
              "    <tr style=\"text-align: right;\">\n",
              "      <th></th>\n",
              "      <th>text</th>\n",
              "      <th>dialect</th>\n",
              "    </tr>\n",
              "  </thead>\n",
              "  <tbody>\n",
              "    <tr>\n",
              "      <th>0</th>\n",
              "      <td>@afq2022 وينك يا بو فهد ، توني متصل لك جوالك م...</td>\n",
              "      <td>QA</td>\n",
              "    </tr>\n",
              "    <tr>\n",
              "      <th>1</th>\n",
              "      <td>والاحلى من الفرش .. الاسفنجه الي تكبر بالماي\\n...</td>\n",
              "      <td>KW</td>\n",
              "    </tr>\n",
              "    <tr>\n",
              "      <th>2</th>\n",
              "      <td>@RMSumrain94 واحد مي لو سمحتي</td>\n",
              "      <td>JO</td>\n",
              "    </tr>\n",
              "    <tr>\n",
              "      <th>3</th>\n",
              "      <td>@Walo2a__ ماراح احكي ولا قالا شي هي حرا تعمل ت...</td>\n",
              "      <td>LB</td>\n",
              "    </tr>\n",
              "    <tr>\n",
              "      <th>4</th>\n",
              "      <td>@uae_3G @saoud_k_althani بتدفعون فعلتكم الشينه...</td>\n",
              "      <td>QA</td>\n",
              "    </tr>\n",
              "  </tbody>\n",
              "</table>\n",
              "</div>\n",
              "      <button class=\"colab-df-convert\" onclick=\"convertToInteractive('df-d57a6c43-f247-40ca-bb23-b370679cb2da')\"\n",
              "              title=\"Convert this dataframe to an interactive table.\"\n",
              "              style=\"display:none;\">\n",
              "        \n",
              "  <svg xmlns=\"http://www.w3.org/2000/svg\" height=\"24px\"viewBox=\"0 0 24 24\"\n",
              "       width=\"24px\">\n",
              "    <path d=\"M0 0h24v24H0V0z\" fill=\"none\"/>\n",
              "    <path d=\"M18.56 5.44l.94 2.06.94-2.06 2.06-.94-2.06-.94-.94-2.06-.94 2.06-2.06.94zm-11 1L8.5 8.5l.94-2.06 2.06-.94-2.06-.94L8.5 2.5l-.94 2.06-2.06.94zm10 10l.94 2.06.94-2.06 2.06-.94-2.06-.94-.94-2.06-.94 2.06-2.06.94z\"/><path d=\"M17.41 7.96l-1.37-1.37c-.4-.4-.92-.59-1.43-.59-.52 0-1.04.2-1.43.59L10.3 9.45l-7.72 7.72c-.78.78-.78 2.05 0 2.83L4 21.41c.39.39.9.59 1.41.59.51 0 1.02-.2 1.41-.59l7.78-7.78 2.81-2.81c.8-.78.8-2.07 0-2.86zM5.41 20L4 18.59l7.72-7.72 1.47 1.35L5.41 20z\"/>\n",
              "  </svg>\n",
              "      </button>\n",
              "      \n",
              "  <style>\n",
              "    .colab-df-container {\n",
              "      display:flex;\n",
              "      flex-wrap:wrap;\n",
              "      gap: 12px;\n",
              "    }\n",
              "\n",
              "    .colab-df-convert {\n",
              "      background-color: #E8F0FE;\n",
              "      border: none;\n",
              "      border-radius: 50%;\n",
              "      cursor: pointer;\n",
              "      display: none;\n",
              "      fill: #1967D2;\n",
              "      height: 32px;\n",
              "      padding: 0 0 0 0;\n",
              "      width: 32px;\n",
              "    }\n",
              "\n",
              "    .colab-df-convert:hover {\n",
              "      background-color: #E2EBFA;\n",
              "      box-shadow: 0px 1px 2px rgba(60, 64, 67, 0.3), 0px 1px 3px 1px rgba(60, 64, 67, 0.15);\n",
              "      fill: #174EA6;\n",
              "    }\n",
              "\n",
              "    [theme=dark] .colab-df-convert {\n",
              "      background-color: #3B4455;\n",
              "      fill: #D2E3FC;\n",
              "    }\n",
              "\n",
              "    [theme=dark] .colab-df-convert:hover {\n",
              "      background-color: #434B5C;\n",
              "      box-shadow: 0px 1px 3px 1px rgba(0, 0, 0, 0.15);\n",
              "      filter: drop-shadow(0px 1px 2px rgba(0, 0, 0, 0.3));\n",
              "      fill: #FFFFFF;\n",
              "    }\n",
              "  </style>\n",
              "\n",
              "      <script>\n",
              "        const buttonEl =\n",
              "          document.querySelector('#df-d57a6c43-f247-40ca-bb23-b370679cb2da button.colab-df-convert');\n",
              "        buttonEl.style.display =\n",
              "          google.colab.kernel.accessAllowed ? 'block' : 'none';\n",
              "\n",
              "        async function convertToInteractive(key) {\n",
              "          const element = document.querySelector('#df-d57a6c43-f247-40ca-bb23-b370679cb2da');\n",
              "          const dataTable =\n",
              "            await google.colab.kernel.invokeFunction('convertToInteractive',\n",
              "                                                     [key], {});\n",
              "          if (!dataTable) return;\n",
              "\n",
              "          const docLinkHtml = 'Like what you see? Visit the ' +\n",
              "            '<a target=\"_blank\" href=https://colab.research.google.com/notebooks/data_table.ipynb>data table notebook</a>'\n",
              "            + ' to learn more about interactive tables.';\n",
              "          element.innerHTML = '';\n",
              "          dataTable['output_type'] = 'display_data';\n",
              "          await google.colab.output.renderOutput(dataTable, element);\n",
              "          const docLink = document.createElement('div');\n",
              "          docLink.innerHTML = docLinkHtml;\n",
              "          element.appendChild(docLink);\n",
              "        }\n",
              "      </script>\n",
              "    </div>\n",
              "  </div>\n",
              "  "
            ]
          },
          "metadata": {},
          "execution_count": 7
        }
      ]
    },
    {
      "cell_type": "code",
      "source": [
        "for i in range(len(df['text'])):\n",
        "  df.text[i]=normalize_text(df.text[i])"
      ],
      "metadata": {
        "id": "Z56KDDV_f0hW"
      },
      "execution_count": 2,
      "outputs": []
    },
    {
      "cell_type": "code",
      "source": [
        "df.info()"
      ],
      "metadata": {
        "id": "oF5bKs1jf0kF",
        "colab": {
          "base_uri": "https://localhost:8080/"
        },
        "outputId": "6fb03585-a16d-4872-b1ca-60c65f2cc11c"
      },
      "execution_count": null,
      "outputs": [
        {
          "output_type": "stream",
          "name": "stdout",
          "text": [
            "<class 'pandas.core.frame.DataFrame'>\n",
            "RangeIndex: 18000 entries, 0 to 17999\n",
            "Data columns (total 2 columns):\n",
            " #   Column   Non-Null Count  Dtype \n",
            "---  ------   --------------  ----- \n",
            " 0   text     18000 non-null  object\n",
            " 1   dialect  18000 non-null  object\n",
            "dtypes: object(2)\n",
            "memory usage: 281.4+ KB\n"
          ]
        }
      ]
    },
    {
      "cell_type": "code",
      "source": [
        "df= df.replace(r'^\\s*$', np.NaN, regex=True)\n",
        "df.info()"
      ],
      "metadata": {
        "id": "kd6eYeGxgUFt",
        "colab": {
          "base_uri": "https://localhost:8080/"
        },
        "outputId": "2097c662-ef30-4829-e8cf-c79ba321a465"
      },
      "execution_count": null,
      "outputs": [
        {
          "output_type": "stream",
          "name": "stdout",
          "text": [
            "<class 'pandas.core.frame.DataFrame'>\n",
            "RangeIndex: 18000 entries, 0 to 17999\n",
            "Data columns (total 2 columns):\n",
            " #   Column   Non-Null Count  Dtype \n",
            "---  ------   --------------  ----- \n",
            " 0   text     12505 non-null  object\n",
            " 1   dialect  18000 non-null  object\n",
            "dtypes: object(2)\n",
            "memory usage: 281.4+ KB\n"
          ]
        }
      ]
    },
    {
      "cell_type": "code",
      "source": [
        "df.dropna(subset = [\"text\"], inplace=True)\n",
        "df=df.reset_index(drop=True)\n",
        "df.info()"
      ],
      "metadata": {
        "id": "fiNmaltegYXr",
        "colab": {
          "base_uri": "https://localhost:8080/"
        },
        "outputId": "a004dc14-e023-4a46-f01b-7e202e8e81ed"
      },
      "execution_count": null,
      "outputs": [
        {
          "output_type": "stream",
          "name": "stdout",
          "text": [
            "<class 'pandas.core.frame.DataFrame'>\n",
            "RangeIndex: 12505 entries, 0 to 12504\n",
            "Data columns (total 2 columns):\n",
            " #   Column   Non-Null Count  Dtype \n",
            "---  ------   --------------  ----- \n",
            " 0   text     12505 non-null  object\n",
            " 1   dialect  12505 non-null  object\n",
            "dtypes: object(2)\n",
            "memory usage: 195.5+ KB\n"
          ]
        }
      ]
    },
    {
      "cell_type": "code",
      "source": [
        "# Selecting duplicate rows based\n",
        "# on 'text' column\n",
        "duplicate = df[df.duplicated('text')]\n",
        " \n",
        "print(\"Duplicate Rows based on text :\")\n",
        " \n",
        "# Print the resultant Dataframe\n",
        "duplicate"
      ],
      "metadata": {
        "id": "Ag_HtbM5gd4e",
        "colab": {
          "base_uri": "https://localhost:8080/",
          "height": 161
        },
        "outputId": "b8f4c6d8-07e5-4dee-cb92-35761b5fd705"
      },
      "execution_count": null,
      "outputs": [
        {
          "output_type": "stream",
          "name": "stdout",
          "text": [
            "Duplicate Rows based on text :\n"
          ]
        },
        {
          "output_type": "execute_result",
          "data": {
            "text/plain": [
              "                             text dialect\n",
              "6370         العسل والورد للحلوين      JO\n",
              "6938   العمر المديد والعيش السعيد      PL\n",
              "12038           تستاهل خير ياغالي      SA"
            ],
            "text/html": [
              "\n",
              "  <div id=\"df-14d5a1e9-f712-41e3-995d-2bda974a7b35\">\n",
              "    <div class=\"colab-df-container\">\n",
              "      <div>\n",
              "<style scoped>\n",
              "    .dataframe tbody tr th:only-of-type {\n",
              "        vertical-align: middle;\n",
              "    }\n",
              "\n",
              "    .dataframe tbody tr th {\n",
              "        vertical-align: top;\n",
              "    }\n",
              "\n",
              "    .dataframe thead th {\n",
              "        text-align: right;\n",
              "    }\n",
              "</style>\n",
              "<table border=\"1\" class=\"dataframe\">\n",
              "  <thead>\n",
              "    <tr style=\"text-align: right;\">\n",
              "      <th></th>\n",
              "      <th>text</th>\n",
              "      <th>dialect</th>\n",
              "    </tr>\n",
              "  </thead>\n",
              "  <tbody>\n",
              "    <tr>\n",
              "      <th>6370</th>\n",
              "      <td>العسل والورد للحلوين</td>\n",
              "      <td>JO</td>\n",
              "    </tr>\n",
              "    <tr>\n",
              "      <th>6938</th>\n",
              "      <td>العمر المديد والعيش السعيد</td>\n",
              "      <td>PL</td>\n",
              "    </tr>\n",
              "    <tr>\n",
              "      <th>12038</th>\n",
              "      <td>تستاهل خير ياغالي</td>\n",
              "      <td>SA</td>\n",
              "    </tr>\n",
              "  </tbody>\n",
              "</table>\n",
              "</div>\n",
              "      <button class=\"colab-df-convert\" onclick=\"convertToInteractive('df-14d5a1e9-f712-41e3-995d-2bda974a7b35')\"\n",
              "              title=\"Convert this dataframe to an interactive table.\"\n",
              "              style=\"display:none;\">\n",
              "        \n",
              "  <svg xmlns=\"http://www.w3.org/2000/svg\" height=\"24px\"viewBox=\"0 0 24 24\"\n",
              "       width=\"24px\">\n",
              "    <path d=\"M0 0h24v24H0V0z\" fill=\"none\"/>\n",
              "    <path d=\"M18.56 5.44l.94 2.06.94-2.06 2.06-.94-2.06-.94-.94-2.06-.94 2.06-2.06.94zm-11 1L8.5 8.5l.94-2.06 2.06-.94-2.06-.94L8.5 2.5l-.94 2.06-2.06.94zm10 10l.94 2.06.94-2.06 2.06-.94-2.06-.94-.94-2.06-.94 2.06-2.06.94z\"/><path d=\"M17.41 7.96l-1.37-1.37c-.4-.4-.92-.59-1.43-.59-.52 0-1.04.2-1.43.59L10.3 9.45l-7.72 7.72c-.78.78-.78 2.05 0 2.83L4 21.41c.39.39.9.59 1.41.59.51 0 1.02-.2 1.41-.59l7.78-7.78 2.81-2.81c.8-.78.8-2.07 0-2.86zM5.41 20L4 18.59l7.72-7.72 1.47 1.35L5.41 20z\"/>\n",
              "  </svg>\n",
              "      </button>\n",
              "      \n",
              "  <style>\n",
              "    .colab-df-container {\n",
              "      display:flex;\n",
              "      flex-wrap:wrap;\n",
              "      gap: 12px;\n",
              "    }\n",
              "\n",
              "    .colab-df-convert {\n",
              "      background-color: #E8F0FE;\n",
              "      border: none;\n",
              "      border-radius: 50%;\n",
              "      cursor: pointer;\n",
              "      display: none;\n",
              "      fill: #1967D2;\n",
              "      height: 32px;\n",
              "      padding: 0 0 0 0;\n",
              "      width: 32px;\n",
              "    }\n",
              "\n",
              "    .colab-df-convert:hover {\n",
              "      background-color: #E2EBFA;\n",
              "      box-shadow: 0px 1px 2px rgba(60, 64, 67, 0.3), 0px 1px 3px 1px rgba(60, 64, 67, 0.15);\n",
              "      fill: #174EA6;\n",
              "    }\n",
              "\n",
              "    [theme=dark] .colab-df-convert {\n",
              "      background-color: #3B4455;\n",
              "      fill: #D2E3FC;\n",
              "    }\n",
              "\n",
              "    [theme=dark] .colab-df-convert:hover {\n",
              "      background-color: #434B5C;\n",
              "      box-shadow: 0px 1px 3px 1px rgba(0, 0, 0, 0.15);\n",
              "      filter: drop-shadow(0px 1px 2px rgba(0, 0, 0, 0.3));\n",
              "      fill: #FFFFFF;\n",
              "    }\n",
              "  </style>\n",
              "\n",
              "      <script>\n",
              "        const buttonEl =\n",
              "          document.querySelector('#df-14d5a1e9-f712-41e3-995d-2bda974a7b35 button.colab-df-convert');\n",
              "        buttonEl.style.display =\n",
              "          google.colab.kernel.accessAllowed ? 'block' : 'none';\n",
              "\n",
              "        async function convertToInteractive(key) {\n",
              "          const element = document.querySelector('#df-14d5a1e9-f712-41e3-995d-2bda974a7b35');\n",
              "          const dataTable =\n",
              "            await google.colab.kernel.invokeFunction('convertToInteractive',\n",
              "                                                     [key], {});\n",
              "          if (!dataTable) return;\n",
              "\n",
              "          const docLinkHtml = 'Like what you see? Visit the ' +\n",
              "            '<a target=\"_blank\" href=https://colab.research.google.com/notebooks/data_table.ipynb>data table notebook</a>'\n",
              "            + ' to learn more about interactive tables.';\n",
              "          element.innerHTML = '';\n",
              "          dataTable['output_type'] = 'display_data';\n",
              "          await google.colab.output.renderOutput(dataTable, element);\n",
              "          const docLink = document.createElement('div');\n",
              "          docLink.innerHTML = docLinkHtml;\n",
              "          element.appendChild(docLink);\n",
              "        }\n",
              "      </script>\n",
              "    </div>\n",
              "  </div>\n",
              "  "
            ]
          },
          "metadata": {},
          "execution_count": 13
        }
      ]
    },
    {
      "cell_type": "code",
      "source": [
        "df.to_csv('cleaned_text_18000_1000.csv')"
      ],
      "metadata": {
        "id": "VBQOfSJgFJB7"
      },
      "execution_count": null,
      "outputs": []
    },
    {
      "cell_type": "code",
      "source": [
        "df['dialect'].value_counts()"
      ],
      "metadata": {
        "colab": {
          "base_uri": "https://localhost:8080/"
        },
        "id": "x3qYJkUNFZ7i",
        "outputId": "56fa7af1-b31d-4cba-9afb-4489cdc39eea"
      },
      "execution_count": null,
      "outputs": [
        {
          "output_type": "execute_result",
          "data": {
            "text/plain": [
              "SY    945\n",
              "EG    852\n",
              "YE    831\n",
              "SD    807\n",
              "LY    727\n",
              "IQ    717\n",
              "LB    701\n",
              "PL    699\n",
              "OM    694\n",
              "KW    693\n",
              "TN    670\n",
              "DZ    628\n",
              "QA    623\n",
              "SA    617\n",
              "BH    607\n",
              "JO    583\n",
              "AE    572\n",
              "MA    539\n",
              "Name: dialect, dtype: int64"
            ]
          },
          "metadata": {},
          "execution_count": 15
        }
      ]
    },
    {
      "cell_type": "code",
      "source": [
        "#Create new dataframe containing only 100 tweet from each dialect\n",
        "new_df= pd.DataFrame()\n",
        "for x in df[\"dialect\"].unique():\n",
        "    new_df=new_df.append(df.loc[df['dialect'] == x][:539],ignore_index=True)"
      ],
      "metadata": {
        "id": "r42MuicOFfld"
      },
      "execution_count": null,
      "outputs": []
    },
    {
      "cell_type": "code",
      "source": [
        "new_df['dialect'].value_counts()"
      ],
      "metadata": {
        "colab": {
          "base_uri": "https://localhost:8080/"
        },
        "id": "EBcEFz77FlIO",
        "outputId": "a09c99e9-0e45-4edc-b060-6797b51940f1"
      },
      "execution_count": null,
      "outputs": [
        {
          "output_type": "execute_result",
          "data": {
            "text/plain": [
              "DZ    539\n",
              "MA    539\n",
              "BH    539\n",
              "PL    539\n",
              "SA    539\n",
              "SD    539\n",
              "LB    539\n",
              "YE    539\n",
              "OM    539\n",
              "QA    539\n",
              "KW    539\n",
              "EG    539\n",
              "AE    539\n",
              "SY    539\n",
              "LY    539\n",
              "IQ    539\n",
              "JO    539\n",
              "TN    539\n",
              "Name: dialect, dtype: int64"
            ]
          },
          "metadata": {},
          "execution_count": 17
        }
      ]
    },
    {
      "cell_type": "code",
      "source": [
        "new_df.to_csv('cleaned_539.csv')"
      ],
      "metadata": {
        "id": "siNkMLXqFplP"
      },
      "execution_count": null,
      "outputs": []
    },
    {
      "cell_type": "code",
      "source": [
        ""
      ],
      "metadata": {
        "id": "7iHelxPayAbF"
      },
      "execution_count": null,
      "outputs": []
    }
  ]
}