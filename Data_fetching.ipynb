{
 "cells": [
  {
   "cell_type": "code",
   "execution_count": 1,
   "metadata": {},
   "outputs": [
    {
     "name": "stdout",
     "output_type": "stream",
     "text": [
      "Requirement already satisfied: requests in c:\\programdata\\anaconda3\\lib\\site-packages (2.24.0)\n",
      "Requirement already satisfied: urllib3!=1.25.0,!=1.25.1,<1.26,>=1.21.1 in c:\\programdata\\anaconda3\\lib\\site-packages (from requests) (1.25.11)\n",
      "Requirement already satisfied: certifi>=2017.4.17 in c:\\programdata\\anaconda3\\lib\\site-packages (from requests) (2020.6.20)\n",
      "Requirement already satisfied: idna<3,>=2.5 in c:\\programdata\\anaconda3\\lib\\site-packages (from requests) (2.10)\n",
      "Requirement already satisfied: chardet<4,>=3.0.2 in c:\\programdata\\anaconda3\\lib\\site-packages (from requests) (3.0.4)\n"
     ]
    }
   ],
   "source": [
    "!pip install requests"
   ]
  },
  {
   "cell_type": "code",
   "execution_count": 2,
   "metadata": {},
   "outputs": [],
   "source": [
    "import pandas as pd"
   ]
  },
  {
   "cell_type": "code",
   "execution_count": 3,
   "metadata": {},
   "outputs": [],
   "source": [
    "#Load data\n",
    "df=pd.read_csv('dialect_dataset.csv')"
   ]
  },
  {
   "cell_type": "code",
   "execution_count": 4,
   "metadata": {},
   "outputs": [
    {
     "data": {
      "text/plain": [
       "EG    57636\n",
       "PL    43742\n",
       "KW    42109\n",
       "LY    36499\n",
       "QA    31069\n",
       "JO    27921\n",
       "LB    27617\n",
       "SA    26832\n",
       "AE    26296\n",
       "BH    26292\n",
       "OM    19116\n",
       "SY    16242\n",
       "DZ    16183\n",
       "IQ    15497\n",
       "SD    14434\n",
       "MA    11539\n",
       "YE     9927\n",
       "TN     9246\n",
       "Name: dialect, dtype: int64"
      ]
     },
     "execution_count": 4,
     "metadata": {},
     "output_type": "execute_result"
    }
   ],
   "source": [
    "df[\"dialect\"].value_counts()"
   ]
  },
  {
   "cell_type": "code",
   "execution_count": 5,
   "metadata": {},
   "outputs": [
    {
     "data": {
      "text/plain": [
       "array(['IQ', 'LY', 'QA', 'PL', 'SY', 'TN', 'JO', 'MA', 'SA', 'YE', 'DZ',\n",
       "       'EG', 'LB', 'KW', 'OM', 'SD', 'AE', 'BH'], dtype=object)"
      ]
     },
     "execution_count": 5,
     "metadata": {},
     "output_type": "execute_result"
    }
   ],
   "source": [
    "df[\"dialect\"].unique()"
   ]
  },
  {
   "cell_type": "code",
   "execution_count": 6,
   "metadata": {},
   "outputs": [],
   "source": [
    "#Create new dataframe containing only 100 tweet from each dialect\n",
    "new_df= pd.DataFrame()\n",
    "for x in df[\"dialect\"].unique():\n",
    "    new_df=new_df.append(df.loc[df['dialect'] == x][:2000],ignore_index=True)"
   ]
  },
  {
   "cell_type": "code",
   "execution_count": 7,
   "metadata": {},
   "outputs": [
    {
     "name": "stdout",
     "output_type": "stream",
     "text": [
      "<class 'pandas.core.frame.DataFrame'>\n",
      "RangeIndex: 36000 entries, 0 to 35999\n",
      "Data columns (total 2 columns):\n",
      " #   Column   Non-Null Count  Dtype \n",
      "---  ------   --------------  ----- \n",
      " 0   id       36000 non-null  int64 \n",
      " 1   dialect  36000 non-null  object\n",
      "dtypes: int64(1), object(1)\n",
      "memory usage: 562.6+ KB\n"
     ]
    }
   ],
   "source": [
    "new_df.info()"
   ]
  },
  {
   "cell_type": "code",
   "execution_count": 8,
   "metadata": {},
   "outputs": [
    {
     "data": {
      "text/plain": [
       "LY    2000\n",
       "PL    2000\n",
       "SY    2000\n",
       "OM    2000\n",
       "MA    2000\n",
       "AE    2000\n",
       "KW    2000\n",
       "SD    2000\n",
       "SA    2000\n",
       "QA    2000\n",
       "YE    2000\n",
       "LB    2000\n",
       "DZ    2000\n",
       "JO    2000\n",
       "TN    2000\n",
       "IQ    2000\n",
       "EG    2000\n",
       "BH    2000\n",
       "Name: dialect, dtype: int64"
      ]
     },
     "execution_count": 8,
     "metadata": {},
     "output_type": "execute_result"
    }
   ],
   "source": [
    "new_df[\"dialect\"].value_counts()"
   ]
  },
  {
   "cell_type": "code",
   "execution_count": 9,
   "metadata": {},
   "outputs": [
    {
     "name": "stdout",
     "output_type": "stream",
     "text": [
      "id         1144990431920439168\n",
      "dialect                     IQ\n",
      "Name: 150, dtype: object\n",
      "id         1173598505715281920\n",
      "dialect                     IQ\n",
      "Name: 600, dtype: object\n",
      "id         1125785124497514368\n",
      "dialect                     IQ\n",
      "Name: 1200, dtype: object\n",
      "id         955888673748340736\n",
      "dialect                    LY\n",
      "Name: 2300, dtype: object\n",
      "id         1001139684783751168\n",
      "dialect                     QA\n",
      "Name: 4000, dtype: object\n"
     ]
    }
   ],
   "source": [
    "#Check that extracted portion is correct\n",
    "print(new_df.iloc[150])\n",
    "print(new_df.iloc[600])\n",
    "print(new_df.iloc[1200])\n",
    "print(new_df.iloc[2300])\n",
    "print(new_df.iloc[4000])"
   ]
  },
  {
   "cell_type": "code",
   "execution_count": 10,
   "metadata": {},
   "outputs": [
    {
     "name": "stdout",
     "output_type": "stream",
     "text": [
      "                      id dialect\n",
      "150  1144990431920439168      IQ\n",
      "                       id dialect\n",
      "52096  946516599787479040      QA\n",
      "                         id dialect\n",
      "127007  1117827034024173568      SY\n",
      "                        id dialect\n",
      "218637  847327524509986816      YE\n",
      "                         id dialect\n",
      "405609  1042813539512197248      AE\n"
     ]
    }
   ],
   "source": [
    "#Search in original dataset\n",
    "print(df.loc[df['id']== 1144990431920439168])\n",
    "print(df.loc[df['id']== 946516599787479040])\n",
    "print(df.loc[df['id']== 1117827034024173568])\n",
    "print(df.loc[df['id']==  847327524509986816])\n",
    "print(df.loc[df['id']== 1042813539512197248])"
   ]
  },
  {
   "cell_type": "code",
   "execution_count": 11,
   "metadata": {},
   "outputs": [
    {
     "data": {
      "text/plain": [
       "0    IQ\n",
       "1    IQ\n",
       "2    IQ\n",
       "3    IQ\n",
       "4    IQ\n",
       "Name: dialect, dtype: object"
      ]
     },
     "execution_count": 11,
     "metadata": {},
     "output_type": "execute_result"
    }
   ],
   "source": [
    "dialect=new_df['dialect']\n",
    "dialect.head()"
   ]
  },
  {
   "cell_type": "code",
   "execution_count": 12,
   "metadata": {},
   "outputs": [
    {
     "data": {
      "text/plain": [
       "0    1175358310087892992\n",
       "1    1175416117793349632\n",
       "2    1175450108898565888\n",
       "3    1175471073770573824\n",
       "4    1175496913145217024\n",
       "Name: id, dtype: int64"
      ]
     },
     "execution_count": 12,
     "metadata": {},
     "output_type": "execute_result"
    }
   ],
   "source": [
    "ids=new_df['id']\n",
    "ids.head()"
   ]
  },
  {
   "cell_type": "code",
   "execution_count": 13,
   "metadata": {},
   "outputs": [],
   "source": [
    "import json\n",
    "import requests\n",
    "\n",
    "url = 'https://recruitment.aimtechnologies.co/ai-tasks'\n",
    "text=[]\n",
    "\n",
    "for i in range(len(ids)):\n",
    "    response = requests.post(url, json =[str(ids[i])])\n",
    "    data= json.loads(response.text)\n",
    "    text.append(data[str(ids[i])])    "
   ]
  },
  {
   "cell_type": "code",
   "execution_count": 14,
   "metadata": {},
   "outputs": [],
   "source": [
    "text_df=pd.Series(text)"
   ]
  },
  {
   "cell_type": "code",
   "execution_count": 15,
   "metadata": {},
   "outputs": [],
   "source": [
    "# create a dataframe\n",
    "a = pd.DataFrame(text_df)\n",
    "  \n",
    "# add series 'b' \n",
    "# into dataframe 'a'\n",
    "df_final= a.join(dialect)\n",
    "df_final.to_csv('dataset_36000_2000.csv')"
   ]
  },
  {
   "cell_type": "code",
   "execution_count": null,
   "metadata": {},
   "outputs": [],
   "source": []
  }
 ],
 "metadata": {
  "kernelspec": {
   "display_name": "Python 3",
   "language": "python",
   "name": "python3"
  },
  "language_info": {
   "codemirror_mode": {
    "name": "ipython",
    "version": 3
   },
   "file_extension": ".py",
   "mimetype": "text/x-python",
   "name": "python",
   "nbconvert_exporter": "python",
   "pygments_lexer": "ipython3",
   "version": "3.8.5"
  }
 },
 "nbformat": 4,
 "nbformat_minor": 4
}
